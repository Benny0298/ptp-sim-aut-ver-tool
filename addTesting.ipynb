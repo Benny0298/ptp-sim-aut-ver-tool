{
 "cells": [
  {
   "cell_type": "markdown",
   "metadata": {},
   "source": [
    "---\n",
    "\n",
    "# Usage of try-except-raise constructs over the exit() funciton\n",
    "\n",
    "Input File: not important\n",
    "\n",
    "## Problem\n",
    "\n",
    "Usage of the exit() function limits the usability of the ptp_sim_aut_ver_tool.py script in the context of an automatic test setup\n",
    "as the exit() function puts a hard stop to the execution of the python interpreter\n",
    "\n",
    "## Solution\n",
    "\n",
    "Use try-except-raise constructs to check critical sections of the script for potential errors and handle them accordingly\n",
    "\n",
    "## Closing Remarks"
   ]
  },
  {
   "cell_type": "code",
   "execution_count": null,
   "metadata": {},
   "outputs": [],
   "source": [
    "## as raise_con was never defined the print() statement will raise an error\n",
    "## - therefore the except block will be executed\n",
    "\n",
    "try:\n",
    "  print(con_x)\n",
    "except:\n",
    "  print(\"exception occured\")\n",
    "finally:\n",
    "  print(\"finally block reached\")\n",
    "  "
   ]
  },
  {
   "cell_type": "code",
   "execution_count": null,
   "metadata": {},
   "outputs": [],
   "source": [
    "## the <raise> statement can be used to manually raise exception\n",
    "## - this can be utilized to control the flow of a script\n",
    "\n",
    "raise_con = 5\n",
    "\n",
    "for cnt in range(10):\n",
    "  if(cnt == raise_con):\n",
    "    raise Exception(\"raise_con reached:\", raise_con)\n",
    "  else:\n",
    "    print(\"cnt:\", cnt)"
   ]
  },
  {
   "cell_type": "code",
   "execution_count": null,
   "metadata": {},
   "outputs": [],
   "source": [
    "### tests to properly check whether or not shell commands were executed properly\n",
    "import subprocess\n",
    "\n",
    "### try to run tshark version cmd\n",
    "try:\n",
    "  process = subprocess.run(\"tshark -Y \\\"p\\\"\",\n",
    "                           shell = True,\n",
    "                           check = True,\n",
    "                           universal_newlines = True).check_returncode()\n",
    "except:\n",
    "  print(\"error running tshark\")"
   ]
  },
  {
   "cell_type": "markdown",
   "metadata": {},
   "source": [
    "---\n",
    "\n",
    "# Addition of a function to invoke tshark with a given list of arguments\n",
    "\n",
    "To increade readability and modularity a function to invoke tshark with a given list of arguments was added"
   ]
  },
  {
   "cell_type": "code",
   "execution_count": null,
   "metadata": {},
   "outputs": [],
   "source": [
    "import subprocess\n",
    "\n",
    "# argList = []\n",
    "\n",
    "### define list of valid args\n",
    "validArgList = [\"--\", \"-T\", \"-Y\", \"-r\", \"-e\", \">\"]\n",
    "\n",
    "\n",
    "\n",
    "\n",
    "def invoke_tshark(argList):\n",
    "  \n",
    "  # create empty string for args to use\n",
    "  invokeString = \"\"\n",
    "    \n",
    "  print(\"function to invoke tshark with a given list of args:\")\n",
    "  ### check length of given argList\n",
    "  # len  < 0 ... should never happen\n",
    "  # len == 0 ... invalid\n",
    "  # len >= 1 ... check for valid args\n",
    "  if(len(argList) == 0):\n",
    "    raise Exception(\"invalid argList: no args\")\n",
    "  elif(len(argList) >= 1):\n",
    "    for str in argList: # loop to check entries\n",
    "      for arg in validArgList:\n",
    "        if(str.startswith(arg)):\n",
    "            invokeString += \" \" + str\n",
    "  else:\n",
    "    raise Exception(\"error running tshark: len(argList) ==\", str(len(argList)))\n",
    "  \n",
    "  \n",
    "  if(invokeString != \"\"):\n",
    "    try:\n",
    "      print(\"tshark\" + invokeString)\n",
    "      process = subprocess.run(\"tshark\" + invokeString,\n",
    "                               shell = True,\n",
    "                               check = True,\n",
    "                               universal_newlines = True).check_returncode()\n",
    "    except:\n",
    "      print(\"error running tshark\")\n",
    "  else:\n",
    "    raise Exception(\"error running tshark\")\n",
    "  \n",
    "  \n",
    "### - test --------------------------------------------------------------------\n",
    "testList = [\"-r testdata/master_original.pcap\", \"-Y \\\"ptp\\\"\", \"-T \\\"fields\\\" -2\", \"-e frame.number\"]\n",
    "invoke_tshark(testList)"
   ]
  },
  {
   "cell_type": "code",
   "execution_count": null,
   "metadata": {},
   "outputs": [],
   "source": [
    "validArgList = [\"-T\", \"-Y\", \"-r\", \"-e\", \">\"]\n",
    "\n",
    "testList = [\"-Y \\\"ptp\\\"\", \"-T \\\"fields\\\"\", \"-e frame.number\", \"-e ptp.v2.messageid\"]\n",
    "\n",
    "invokeString = \"\"\n",
    "\n",
    "\n",
    "\n",
    "for entry in testList:\n",
    "    # print(entry)\n",
    "    for arg in validArgList:\n",
    "        if(entry.startswith(arg)):\n",
    "            invokeString += \" \" + entry\n",
    "            \n",
    "print(invokeString)"
   ]
  }
 ],
 "metadata": {
  "interpreter": {
   "hash": "31f2aee4e71d21fbe5cf8b01ff0e069b9275f58929596ceb00d14d90e3e16cd6"
  },
  "kernelspec": {
   "display_name": "Python 3.8.10 64-bit",
   "language": "python",
   "name": "python3"
  },
  "language_info": {
   "codemirror_mode": {
    "name": "ipython",
    "version": 3
   },
   "file_extension": ".py",
   "mimetype": "text/x-python",
   "name": "python",
   "nbconvert_exporter": "python",
   "pygments_lexer": "ipython3",
   "version": "3.8.10"
  },
  "orig_nbformat": 4
 },
 "nbformat": 4,
 "nbformat_minor": 2
}
