{
 "cells": [
  {
   "cell_type": "markdown",
   "metadata": {},
   "source": [
    "---\n",
    "\n",
    "DATE:   January 11, 2022\n",
    "\n",
    "AUTHOR: Benedikt WELLES\n",
    "\n",
    "FILE:   useWiresharkParser.ipynb"
   ]
  },
  {
   "cell_type": "markdown",
   "metadata": {},
   "source": [
    "---\n",
    "\n",
    "# General Information\n",
    "\n",
    "This Jupyter-Notebook is used to supplement development and bug-fixing of the Python-Script \\<ptp_sim_aut_ver_tool.py\\>\n",
    "\n",
    "This file is intended to be used as both a means to troubleshoot and to document bugs found within the script used to automatically\n",
    "analyse captured PTP network traffic.\n",
    "\n",
    "--- \n",
    "\n",
    "## Important Note: \n",
    "\n",
    "+ Use the \\<Restart\\> button at the top of the VS Code window ***after*** changing something in the script \\<ptp_sim_aut_ver_tool.py\\>\n",
    "+ Afterwards run the code cell below this textbox to re-import the (changed) main script."
   ]
  },
  {
   "cell_type": "code",
   "execution_count": null,
   "metadata": {},
   "outputs": [],
   "source": [
    "from ptp_sim_aut_ver_tool import parseFile"
   ]
  },
  {
   "cell_type": "markdown",
   "metadata": {},
   "source": [
    "---\n",
    "\n",
    "---\n",
    "\n",
    "# Documentation\n",
    "\n",
    "The following section of this Jupyter-Notebook is meant to provide information about the iterative process of implementing new \n",
    "functionality for the \\<ptp_sim_aut_ver_tool.py\\> script, as well as to document the bug-fixing of existing functionality.\n",
    "\n",
    "### Structure\n",
    "\n",
    "The following section consists of Markdown and Python-code cells:\n",
    "\n",
    "+ Text written in the Markdown cells is meant to introduce an identified problem, give information about found solutions as well as a \n",
    "closing remark explaining how the encountered problem was fixed. \n",
    "\n",
    "+ The cells of Python-code accompanying Markdown sections are intended to show that the specific problem mentioned within the text has \n",
    "been solved."
   ]
  },
  {
   "cell_type": "markdown",
   "metadata": {},
   "source": [
    "---\n",
    "\n",
    "---\n",
    "\n",
    "# Issues with misinterpreted IPv4 Addresses\n",
    "\n",
    "Input File: \"testdata/optimusPrime_TC_R0017.pcapng.log\"\n",
    "\n",
    "Regarding the apparent misinterpretation of the <ip.src> value of ICMP Packets\n",
    "\n",
    "## Problem\n",
    "\n",
    "Certain packets found within the input file specified above were interpreted to have problematic IPv4 <ip.src> values. \n",
    "\n",
    "For example: Packet 42227 is an ICMP packet, which is displayed with the wireshark error-message \"destination unreachable (port unreachable)\"\n",
    "+ Its source is 10.0.0.203, its destination 10.0.0.204 ... which would correlate with problematic <ip.src=='10.0.0.203,10.0.0.204'>\n",
    "+ Such ICMP packets are displayed even if the tshark filter <-Y \"ptp\"> is used (this seems to be intended behaviour?)\n",
    "\n",
    "One can see that <10.0.0.203,10.0.0.204> ***is not*** a valid IPv4 address\n",
    "\n",
    "## Solution\n",
    "\n",
    "Two different ways of circumventing this particular probelm have been found: \n",
    "\n",
    "When invoking tshark for the very first time (to determine unique ip.src values) one can utilize ...\n",
    "+ the display filter <-Y \"ptp and not icmp\">\n",
    "    + now ICMP packets are delibaretely ignored\n",
    "+ the additional option <-E occurrence=f>\n",
    "    + the \",\" within the problematic IPv4 addresses is interpreted as a seperator ... Therefore only the <ip.src> part of the overall address is used\n",
    "\n",
    "## Closing Remarks\n",
    "\n",
    "This solution merely circumvents the problems mentioned above. An actual answer as to ***why*** tshark would wrongly interpret the field ip.src for a ICMP packets with the error code \"destination unreachable (port unreachable)\" ***was not found***"
   ]
  },
  {
   "cell_type": "code",
   "execution_count": null,
   "metadata": {},
   "outputs": [],
   "source": [
    "inputFileName = \"./testdata/optimusPrime_TC_R0017.pcapng.log\"\n",
    "\n",
    "parseFile(inputFileName)"
   ]
  },
  {
   "cell_type": "markdown",
   "metadata": {},
   "source": [
    "---\n",
    "# Issues differentiating IPv4 and IPv6 Addresses\n",
    "\n",
    "Input File: \"testdata/walle_TC_R0028.pcapng\"\n",
    "\n",
    "## Problem\n",
    "\n",
    "A previous version of the underlying script was not capable of differentiating between IPv4 and IPv6 addresses, let alone parse IPv6 addresses. \n",
    "\n",
    "## Solution\n",
    "\n",
    "The underlying script was updated to differentiate between IPv4 and IPv6 addresses and is now able to parse both types of addresses. \n",
    "\n",
    "An extra invocation of tshark is used to determine the value of the <eth.type> field of the first PTP packet found within a specified input file. Afterwards, boolean \n",
    "flags are set according to the IPvX address type found within this first PTP packet. Accroding to these boolean flags subsequent tshark invocations acquire relevant information\n",
    "from the appropriate fields of a PTP message. \n",
    "\n",
    "These relevant fields for the distinction between IPv4 and IPv6 packtes are as follows:\n",
    "+ IPv4 ... ip.src\n",
    "+ IPv6 ... ipv6.src\n",
    "\n",
    "Other than that, no functionality of the underlying script has been changed. \n",
    "\n",
    "## TODO\n",
    "\n",
    "TODO: implement a future check whether ***all*** PTP packtes found in an input file utilize the same type of IPvX addresses.\n",
    "\n",
    "## Closing Remarks\n",
    "\n",
    "TODO: update text\n",
    "\n",
    "Updating the underlying script to differentiate between IPv4 and IPv6 addresses was easier than expected. "
   ]
  },
  {
   "cell_type": "code",
   "execution_count": null,
   "metadata": {},
   "outputs": [],
   "source": [
    "inputFileName = \"./testdata/walle_TC_R0028.pcapng\"\n",
    "\n",
    "parseFile(inputFileName)"
   ]
  },
  {
   "cell_type": "markdown",
   "metadata": {},
   "source": [
    "---\n",
    "\n",
    "# Issues with not (yet) supported types of PTP Messages\n",
    "\n",
    "Input file: optimusPrime_TC_R0044.pcapng.log\n",
    "\n",
    "## Problem\n",
    "\n",
    "A previous version of the underlying script was not able to run properly if PTP messages of not (yet) supported types were found.\n",
    "\n",
    "In such a case the iterating loops handling the generation of data frames according to identified PTP message types were not executed as intended. \n",
    "For this reason data frames that should have been created and filled with information corresponding to the supported PTP message types were not\n",
    "created/filled as intended and the underlying script crashed due to an access of a data frame column which did not exist.\n",
    "\n",
    "## Solution\n",
    "\n",
    "The iterating loops handling the generation of data frames were reworked to properly accomodate not (yet) supported types of PTP messages ***without*** \n",
    "impeding the creation of other data frames\n",
    "\n",
    "## Closing Remarks\n",
    "\n",
    "The purpose of this update of the underlying script was to simply fix the problem regarding the iterating loops responsible for generating and filling\n",
    "data frames according to the identified PTP message types. \n",
    "\n",
    "However, the script ***was not yet*** updated to sensibly support all types of PTP messages. "
   ]
  },
  {
   "cell_type": "code",
   "execution_count": null,
   "metadata": {},
   "outputs": [],
   "source": [
    "inputFileName = \"./testdata/optimusPrime_TC_R0044.pcapng.log\"\n",
    "\n",
    "parseFile(inputFileName)"
   ]
  },
  {
   "cell_type": "markdown",
   "metadata": {},
   "source": [
    "---\n",
    "\n",
    "# Issues with Input Files containing no PTP Messages\n",
    "\n",
    "Input file: c3po_TC_R0033.pcapng.log\n",
    "\n",
    "## Problem\n",
    "\n",
    "There are no PTP messages within this file, which lead to a crash of a previous version of the underlying script.\n",
    "\n",
    "## Solution\n",
    "\n",
    "A boolean flag was added to represent whether or not eligible PTP messages were found within a given input file. If no eligible PTP messages\n",
    "are found the script displays an informative message and exits. This check was implemented at the beginning of the script:\n",
    "\n",
    "As per a previous update to the underlying script another data frame was added to allow for a check of the value of the field <eth.type>. If the data\n",
    "frame intentionally added for this purpose ends up being empty, no eligible PTP messages were found within the given input file. \n",
    "\n",
    "## Closing Remarks\n",
    "\n",
    "As of now this check only happens once at the beginning of the script. If the data frame through which <eth.type> shall be determined ends up being ***not empty*** it is assumed no PTP messages were found within the given input file. "
   ]
  },
  {
   "cell_type": "code",
   "execution_count": null,
   "metadata": {},
   "outputs": [],
   "source": [
    "inputFileName = \"./testdata/c3po_TC_R0033.pcapng.log\"\n",
    "\n",
    "parseFile(inputFileName)"
   ]
  }
 ],
 "metadata": {
  "interpreter": {
   "hash": "830926130607e817f051f4bc15ee3c7b61ce49f85b6527d801e165ff71755c98"
  },
  "kernelspec": {
   "display_name": "Python 3.9.7 64-bit",
   "language": "python",
   "name": "python3"
  },
  "language_info": {
   "codemirror_mode": {
    "name": "ipython",
    "version": 3
   },
   "file_extension": ".py",
   "mimetype": "text/x-python",
   "name": "python",
   "nbconvert_exporter": "python",
   "pygments_lexer": "ipython3",
   "version": "3.8.10"
  },
  "orig_nbformat": 4
 },
 "nbformat": 4,
 "nbformat_minor": 2
}
